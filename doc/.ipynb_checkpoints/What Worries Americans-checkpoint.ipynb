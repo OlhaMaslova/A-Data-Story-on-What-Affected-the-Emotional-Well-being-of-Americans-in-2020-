{
 "cells": [
  {
   "cell_type": "code",
   "execution_count": 1,
   "metadata": {},
   "outputs": [],
   "source": [
    "def get_rid_of_spine(axes):\n",
    "    for ax in axes:\n",
    "        for spine in ax.spines.values():\n",
    "            spine.set_visible(False)"
   ]
  },
  {
   "cell_type": "code",
   "execution_count": 2,
   "metadata": {},
   "outputs": [],
   "source": [
    "# label each bar directly\n",
    "def label_each_bar(axes):\n",
    "    for ax in axes:\n",
    "        for p in ax.patches:\n",
    "            ax.annotate(\n",
    "                format(p.get_height(), '.2f'), \n",
    "                (p.get_x() + p.get_width() / 2., p.get_height()), \n",
    "                ha = 'center', \n",
    "                va = 'center', \n",
    "                xytext = (0, 10), \n",
    "                textcoords = 'offset points')"
   ]
  },
  {
   "cell_type": "code",
   "execution_count": 3,
   "metadata": {},
   "outputs": [],
   "source": [
    "def build_bar_plot(x, y, hue, ax, order, cmap, df):\n",
    "    return (df[x]\n",
    "     .groupby(df[hue])\n",
    "     .value_counts(normalize=True)\n",
    "     .rename(y)\n",
    "     .reset_index()\n",
    "     .pipe((sns.barplot, \"data\"), x=x, y=y, hue=hue, order=order, palette=cmap, ax=ax))"
   ]
  },
  {
   "cell_type": "code",
   "execution_count": 4,
   "metadata": {},
   "outputs": [],
   "source": [
    "def set_yticks_empty(g_list):\n",
    "    for g in g_list:\n",
    "        g.axes.get_yaxis().set_ticks([])"
   ]
  },
  {
   "cell_type": "code",
   "execution_count": 18,
   "metadata": {},
   "outputs": [],
   "source": [
    "# import all necessary libraries\n",
    "from scipy.stats import pearsonr\n",
    "import matplotlib.pyplot as plt\n",
    "import seaborn as sns\n",
    "import pandas as pd\n",
    "import numpy as np\n",
    "\n",
    "# colormaps\n",
    "cmap_pol = [\"#0015BC\", \"#9cfc8b\", \"#FF0000\", \"#a3a3a3\"]\n",
    "palette_sex = ['salmon', 'steelblue']\n",
    "\n",
    "# style\n",
    "cmap = sns.diverging_palette(230, 20, as_cmap=True)\n",
    "sns.set_style('white')"
   ]
  },
  {
   "cell_type": "code",
   "execution_count": null,
   "metadata": {},
   "outputs": [],
   "source": [
    "# import the dataset\n",
    "location = '../data/anes_pilot_2020ets_csv.csv'\n",
    "df = pd.read_csv(location)\n",
    "df.head()"
   ]
  },
  {
   "cell_type": "markdown",
   "metadata": {},
   "source": [
    "<center><h1>Introduction</h1></center>\n",
    "<center><img src=\"../figs/luis-villasmil-mlVbMbxfWI4-unsplash.jpg\" align=\"center\" alt='financial tree by micheile-henderson' style=\"width: 600px;\"/></center>\n",
    "<br>\n",
    "<br>\n",
    "Stress and anxiety have long been proven to affect our health negatively. According to <a href=\"https://www.healthline.com\">Healthline.com</a>, anxiety disorders can cause rapid heart rate, palpitations, and chest pain. It increases the risk of high blood pressure and heart disease. For those with heart disease, anxiety disorders may raise the risk of coronary events. It also affects our excretory and digestive systems, immune system, and respiratory system. It causes headaches, muscle tension, insomnia, depression, and social isolation.\n",
    "<br>\n",
    "<br>\n",
    "We all experience stress and anxiety at some point in our life. To be more precise, according to \n",
    "<a href=\"https://www.nimh.nih.gov/health/statistics/any-anxiety-disorder.shtml\"> National Institute of Mental Health</a>, an estimated 19.1% of U.S. adults had an anxiety disorder in the past year. This means that approximately 1 in 5 Americans had this unpleasant experience in the past 12 months. Moreover, an estimated 31.1% of U.S. adults experience an anxiety disorder at some point in their lives.\n",
    "<br>\n",
    "<br>\n",
    "2020 has been a difficult year for people all around the globe, and Americans are no exception. According to a new public opinion poll released in October 2020 by the American Psychiatric Association, 62% of Americans feel more anxious than they did at this time last year. Even though this data is for October, April wasn't an easy month either. In this study, I want to explore the influence of politics, economic situation, and pandemic as key themes of 2020 on Americans' emotional well-being in April of 2020."
   ]
  },
  {
   "cell_type": "markdown",
   "metadata": {},
   "source": [
    "<center><h1>A \"Data Story\" on What Affected the Emotional Well-being of Americans in 2020. Did It Vary for Different Social Groups?\n",
    "</h1></center>\n",
    "\n",
    "<center><img src=\"../figs/kelly-sikkema-5yxPOMHymlw-unsplash.jpg\" align=\"center\" style=\"width: 600px;\"/></center>\n",
    "\n",
    "> **\"They say a person needs just three things to be truly happy in this world: Someone to love, something to do, and something to hope for.\"** (Tom Bodett) "
   ]
  },
  {
   "cell_type": "markdown",
   "metadata": {},
   "source": [
    "<h2>General info about the dataset:</h2>\n",
    "\n",
    "For this project, I will be using [2020 Exploratory Testing Survey](https://electionstudies.org/data-center/2020-exploratory-testing-survey/) data by the American National Election Studies organiation."
   ]
  },
  {
   "cell_type": "markdown",
   "metadata": {},
   "source": [
    "## Limitations of data:\n",
    "1. According to ANES, we can't make any inferences that relate to respondent location.\n",
    "2. Dataset is not balanced. <br>\n",
    "    2.1 There are only 27 people representing Hawaiians or Pac. Islanders. <br>\n",
    "    2.2 Only 3% of responders said that they are neither republicans, democrats, nor independent. \n"
   ]
  },
  {
   "cell_type": "code",
   "execution_count": null,
   "metadata": {},
   "outputs": [],
   "source": [
    "df.info()"
   ]
  },
  {
   "cell_type": "markdown",
   "metadata": {},
   "source": [
    "As we can see, the survey was completed by 3,080 individuals. In total, it has 470 columns, which correspond to the total number of questions. However, note that some of the questions are survey-specific, meaning each individual answered less than 470 questions. \n",
    "\n",
    "To answer my particular research question, I first selected a subset of questions(columns) that I think are the most relevant and renamed them with proper descriptive names."
   ]
  },
  {
   "cell_type": "markdown",
   "metadata": {},
   "source": [
    "### Selecting a subset of values & renaming features"
   ]
  },
  {
   "cell_type": "code",
   "execution_count": null,
   "metadata": {},
   "outputs": [],
   "source": [
    "df1 = df[['worried', 'happy', 'birthyr', 'sex', 'pid1r',\n",
    "          'impact1', 'impact2', 'impact8', 'impact9',\n",
    "          'finworry', 'confecon', \n",
    "          'health1', 'covid1', 'covid2', \n",
    "          'inc_anes', 'inc_cps', 'inc_cpsmod']]\n",
    "\n",
    "# Rename Columns\n",
    "column_labels=['Worried', 'Happy', 'Birth Year', 'Sex', 'Political Party',\n",
    "               'Political Impact', 'Stress from Politics', 'Hurt Relat. with Family', 'Hurt Relat. with Friends',\n",
    "               'Fin.Situation', 'Nat. Econ',\n",
    "               'Health', 'Covid.P', 'Covid.E', \n",
    "               'Income All 2019 liv. together', 'Income All Past 12', 'Income All Past 12 liv. together']\n",
    "\n",
    "df1.columns = column_labels"
   ]
  },
  {
   "cell_type": "markdown",
   "metadata": {},
   "source": [
    "<h3>Missing values</h3>\n",
    "After renaming all of the columns, I dropped all missing values. \n",
    "\n",
    "Note: I was first considering interpolating some of the values with mean/median values. However, after exploring the dataset closely, I realized that there are too many parameters on which this value may depend. Besides, there were only 10 missing values(responses) out of 3080. Therefore, I decided to drop them because it will not greatly affect my study."
   ]
  },
  {
   "cell_type": "code",
   "execution_count": null,
   "metadata": {},
   "outputs": [],
   "source": [
    "# Drop missing values\n",
    "to_drop = list(df1[df1['Political Party'] == 9].index)\n",
    "to_drop += list(df1[df1['Nat. Econ'] == 9].index)\n",
    "to_drop += list(df1[df1['Fin.Situation'] == 9].index)\n",
    "to_drop += list(df1[df1['Covid.P'] == 9].index)\n",
    "to_drop += list(df1[df1['Income All Past 12'] == 99].index)\n",
    "to_drop += list(df1[df1['Income All Past 12 liv. together'] == 99].index)\n",
    "\n",
    "df1 = df1.drop(to_drop)\n",
    "\n",
    "#total number of responses in the dataset\n",
    "total = len(df1)\n",
    "\n",
    "df1.head()"
   ]
  },
  {
   "cell_type": "markdown",
   "metadata": {},
   "source": [
    "### Check the data to make sure it is balanced\n",
    "The next step was to ensure the dataset is balanced. So I counted the number of representatives of each political group and gender. "
   ]
  },
  {
   "cell_type": "code",
   "execution_count": null,
   "metadata": {},
   "outputs": [],
   "source": [
    "# count representatives of different political parties\n",
    "democrats_num = df1[df1['Political Party'] == 2].count()[0]\n",
    "republicans_num = df1[df1['Political Party'] == 1].count()[0]\n",
    "independent_num = df1[df1['Political Party'] == 3].count()[0]\n",
    "something_else_num = df1[df1['Political Party'] == 4].count()[0]\n",
    "\n",
    "order_worry = ['Extremely','Very', 'Moderately', 'A little','Not at all']\n",
    "\n",
    "party = ['democrats', 'republicans', 'independent', 'something_else']\n",
    "count = [democrats_num, republicans_num, independent_num, something_else_num]\n",
    "df_parties = pd.DataFrame(index=party)\n",
    "df_parties['count'] = count\n",
    "\n",
    "#Plotting\n",
    "fig, ax = plt.subplots(figsize=(6,4))\n",
    "g = sns.barplot(y=df_parties['count'], x=df_parties.index, color=\"steelblue\")\n",
    "get_rid_of_spine([ax])\n",
    "label_each_bar([ax])\n",
    "plt.suptitle(\"The distribution of political groups\", y = 1.03, fontsize=20)\n",
    "set_yticks_empty([g])"
   ]
  },
  {
   "cell_type": "code",
   "execution_count": null,
   "metadata": {},
   "outputs": [],
   "source": [
    "print('Percentage of democrats: ', democrats_num/total)\n",
    "print('Percentage of republicans: ', republicans_num/total)\n",
    "print('Percentage of independent: ', independent_num/total)\n",
    "print('Percentage of someone else: ', something_else_num/total)"
   ]
  },
  {
   "cell_type": "markdown",
   "metadata": {},
   "source": [
    "As we can see, in regards to political parties, our dataset is not balanced, therefore I will be using proportions throughout this project to account for the differences. Also, I won't be analysing the \"something else\" category becuase there is not enough data to make any inferences. "
   ]
  },
  {
   "cell_type": "code",
   "execution_count": null,
   "metadata": {},
   "outputs": [],
   "source": [
    "# count representatives of different sex\n",
    "male_num = df1[df1['Sex'] == 1].count()[0]\n",
    "female_num = df1[df1['Sex'] == 2].count()[0]\n",
    "\n",
    "sex = ['Male', 'Female']\n",
    "count = [male_num, female_num]\n",
    "df_sex = pd.DataFrame(index=sex)\n",
    "df_sex['count'] = count\n",
    "\n",
    "#Plotting\n",
    "fig, ax = plt.subplots(figsize=(6,4))\n",
    "g = sns.barplot(y=df_sex['count'], x=df_sex.index, color=\"steelblue\")\n",
    "get_rid_of_spine([ax])\n",
    "label_each_bar([ax])\n",
    "plt.suptitle(\"The distribution of sex\", y = 1.03, fontsize=20)\n",
    "set_yticks_empty([g])"
   ]
  },
  {
   "cell_type": "code",
   "execution_count": null,
   "metadata": {},
   "outputs": [],
   "source": [
    "print('Percentage of male: ', male_num/total)\n",
    "print('Percentage of female: ', female_num/total)"
   ]
  },
  {
   "cell_type": "markdown",
   "metadata": {},
   "source": [
    "Regarding gender, our dataset is almost balanced and is representative of the current proportion of men to women in the United States. However, I think it will be easier to comprehend the information on the same scale. Therefore, I will also use proportions to visualize my findings."
   ]
  },
  {
   "cell_type": "markdown",
   "metadata": {},
   "source": [
    "## First, let's first see how Americans evaluate their feelings regarding the way things are going in the US in April of 2020:"
   ]
  },
  {
   "cell_type": "markdown",
   "metadata": {},
   "source": [
    "<b>Question 1:</b>: Generally speaking, how do you feel about the way things are going in the country these days?<br>\n",
    "&nbsp;&nbsp;&nbsp;&nbsp; <b>Question 1.1</b>: How worry do you feel?<br>\n",
    "&nbsp;&nbsp;&nbsp;&nbsp; <b>Question 1.2</b>: How happy do you feel?<br>\n",
    "<b>Variables:</b> [Worried], [Happy]<br>\n",
    "<b>Possible Answers:</b><br>\n",
    "&nbsp;&nbsp;&nbsp;&nbsp;[1] Not at all <br>\n",
    "&nbsp;&nbsp;&nbsp;&nbsp;[2] A little <br>\n",
    "&nbsp;&nbsp;&nbsp;&nbsp;[3] Somewhat <br>\n",
    "&nbsp;&nbsp;&nbsp;&nbsp;[4] Very <br>\n",
    "&nbsp;&nbsp;&nbsp;&nbsp;[5] Extremly <br"
   ]
  },
  {
   "cell_type": "code",
   "execution_count": null,
   "metadata": {},
   "outputs": [],
   "source": [
    "# Data Manipulation\n",
    "df_happy = df1[['Happy', 'Sex']]\n",
    "df_worried = df1[['Worried', 'Sex']]\n",
    "\n",
    "#replace values from integers to their corresponding string represenattions.\n",
    "df_happy.loc[:, 'Happy'].replace(1, 'Not at all', inplace=True)\n",
    "df_happy.loc[:, 'Happy'].replace(2, 'A little', inplace=True)\n",
    "df_happy.loc[:, 'Happy'].replace(3, 'Somewhat', inplace=True)\n",
    "df_happy.loc[:, 'Happy'].replace(4, 'Very', inplace=True)\n",
    "df_happy.loc[:, 'Happy'].replace(5, 'Extremly', inplace=True)\n",
    "\n",
    "df_happy.loc[:, 'Sex'].replace(1, 'Male', inplace=True)\n",
    "df_happy.loc[:, 'Sex'].replace(2, 'Female', inplace=True)\n",
    "\n",
    "df_worried.loc[:, 'Worried'].replace(1, 'Not at all', inplace=True)\n",
    "df_worried.loc[:, 'Worried'].replace(2, 'A little', inplace=True)\n",
    "df_worried.loc[:, 'Worried'].replace(3, 'Somewhat', inplace=True)\n",
    "df_worried.loc[:, 'Worried'].replace(4, 'Very', inplace=True)\n",
    "df_worried.loc[:, 'Worried'].replace(5, 'Extremly', inplace=True)\n",
    "\n",
    "df_worried.loc[:, 'Sex'].replace(1, 'Male', inplace=True)\n",
    "df_worried.loc[:, 'Sex'].replace(2, 'Female', inplace=True)"
   ]
  },
  {
   "cell_type": "code",
   "execution_count": null,
   "metadata": {},
   "outputs": [],
   "source": [
    "fig, (ax1, ax2) = plt.subplots(2, 1, figsize=(14,12), sharey=True)\n",
    "\n",
    "x1, x2, y, hue = \"Worried\", \"Happy\", \"proportion\", \"Sex\"\n",
    "order_feel = ['Extremly','Very', 'Somewhat', 'A little', 'Not at all']\n",
    "\n",
    "g1 = build_bar_plot(x1, y, hue, ax1, order_feel, palette_sex, df_worried)\n",
    "g2 = build_bar_plot(x2, y, hue, ax2, order_feel, palette_sex, df_happy)\n",
    "\n",
    "# The amount of space above titles\n",
    "y_title_margin = 1.05\n",
    "plt.suptitle(\"How Americans evaluate their feelings regarding the way things are going in the US\", y = 1.03, fontsize=20)\n",
    "ax1.set_title(\"How worried they are?\",  y = y_title_margin)\n",
    "ax2.set_title(\"How happy they are?\",y = y_title_margin)\n",
    "\n",
    "axes = [ax1, ax2]\n",
    "\n",
    "get_rid_of_spine(axes)\n",
    "label_each_bar(axes)\n",
    "set_yticks_empty([g1, g2])"
   ]
  },
  {
   "cell_type": "code",
   "execution_count": null,
   "metadata": {},
   "outputs": [],
   "source": [
    "print('Percentage of Americans that are somewhat, a little, or not happy at all: ', \n",
    "      (941 + 718 + 643) / total * 100, '%')\n",
    "print('Percentage of Americans that are very or extremly worried: ', \n",
    "      np.round((689 + 749) / total * 100, 2), '%')\n",
    "print('Percentage of Americans that are moderately, very, or extremly worried: ', \n",
    "      np.round((689 + 749 + 735) / total * 100, 2), '%')"
   ]
  },
  {
   "cell_type": "markdown",
   "metadata": {},
   "source": [
    "The fact that almost 75% of Americans are only somewhat, a little, or not happy at all about how things are going in the US seems disturbing to me. As we can see, almost 47% of Americans are *extremely* or *very* worried about the country's current situation. Include those that are *somewhat* worried as well, and we bring the percentage up to over 70%.\n",
    "<br>\n",
    "\n",
    "Also, an interesting observation is that women seem to worry more than men. The distribution is slightly skewed to the right for women, while for men, the distribution is more uniform except for the *Not at all* category. Consequently, women are less happier about how things are going in the country.\n",
    "For both men and women, the distribution of responses related to happiness resembles normal. However, the distribution of female responses is slightly skewed to the left. \n",
    "\n",
    "## So the question is what contributes to such worrisome results?"
   ]
  },
  {
   "cell_type": "markdown",
   "metadata": {},
   "source": [
    "\n",
    "When we think about the country's overall situation, the first thing that frequently comes to mind is Politics. Some people are more involved into it, others prefer not get involved at all. But it is hard to avoid thinking about it. Let's see what how stressful thinking about politics is for men and women:\n",
    "\n",
    "<b>Question 1:</b>: How stressful do you find thinking about politics?<br>\n",
    "<b>Variables:</b> [Stress from Politics]<br>\n",
    "<b>Possible Answers:</b><br>\n",
    "&nbsp;&nbsp;&nbsp;&nbsp;[1] Extremely stressful<br>\n",
    "&nbsp;&nbsp;&nbsp;&nbsp;[2] Very stressful <br>\n",
    "&nbsp;&nbsp;&nbsp;&nbsp;[3] Moderately stressful  <br>\n",
    "&nbsp;&nbsp;&nbsp;&nbsp;[4] A little stressful <br>\n",
    "&nbsp;&nbsp;&nbsp;&nbsp;[5] Not at all stressful <br>"
   ]
  },
  {
   "cell_type": "code",
   "execution_count": null,
   "metadata": {},
   "outputs": [],
   "source": [
    "# Data Manipulation\n",
    "df_stress = df1[['Stress from Politics', 'Sex']]\n",
    "\n",
    "#replace values from integers to their corresponding string represenattions.\n",
    "df_stress.loc[:, 'Stress from Politics'].replace(1, 'Extremly', inplace=True)\n",
    "df_stress.loc[:, 'Stress from Politics'].replace(2, 'Very', inplace=True)\n",
    "df_stress.loc[:, 'Stress from Politics'].replace(3, 'Somewhat', inplace=True)\n",
    "df_stress.loc[:, 'Stress from Politics'].replace(4, 'A little', inplace=True)\n",
    "df_stress.loc[:, 'Stress from Politics'].replace(5, 'Not at all', inplace=True)\n",
    "\n",
    "df_stress.loc[:, 'Sex'].replace(1, 'Male', inplace=True)\n",
    "df_stress.loc[:, 'Sex'].replace(2, 'Female', inplace=True)\n",
    "\n",
    "fig, ax = plt.subplots(figsize=(10,6))\n",
    "\n",
    "x1, y, hue = \"Stress from Politics\", \"proportion\", \"Sex\"\n",
    "order_feel = ['Extremly','Very', 'Somewhat', 'A little', 'Not at all']\n",
    "\n",
    "g1 = build_bar_plot(x1, y, hue, ax, order_feel, palette_sex, df_stress)\n",
    "\n",
    "# The amount of space above titles\n",
    "y_title_margin = 1.05\n",
    "plt.suptitle(\"How stressful do you find thinking about politics?\", y = 1.03, fontsize=20)\n",
    "\n",
    "get_rid_of_spine([ax])\n",
    "label_each_bar([ax])\n",
    "set_yticks_empty([g1])"
   ]
  },
  {
   "cell_type": "markdown",
   "metadata": {},
   "source": [
    "As we can see, the overall distribution is close to normal. However, it seems like women find thinking about politics a bit more stressful than men. \n",
    "\n",
    "---\n",
    "\n",
    "Another important contributor to our overall stress is the state of the national economy and our personal finances. If we go back in time and see what news articles were there, we can definitely find a lot of information about stimulus checks and incredible losses caused by the economy lockdowns. \n",
    "\n",
    "For example, on the graph below we can see the change in revenue for small businesses ([source](https://www.brookings.edu/research/ten-facts-about-covid-19-and-the-u-s-economy/)):\n",
    "<img src=\"../figs/COVIDFacts_Figure1_LO.png\" alt='financial tree by micheile-henderson' style=\"width: 600px;\"/>"
   ]
  },
  {
   "cell_type": "markdown",
   "metadata": {},
   "source": [
    "In addition to that, a lot of people lost their jobs either temporarily or permanently.\n",
    "So let's see how Americans were worried about the state of the national economy and their personal finances. \n",
    "\n",
    "<center><h2>National Economy and Personal Financial situation</h2></center>\n",
    "\n",
    "<center><img src=\"../figs/micheile-henderson-lZ_4nPFKcV8-unsplash.jpg\" align=\"center\" alt='financial tree by micheile-henderson' style=\"width: 600px;\"/></center>"
   ]
  },
  {
   "cell_type": "markdown",
   "metadata": {},
   "source": [
    "**Question 2**: Overall, how worried are you about the national economy?<br>\n",
    "<b>Variable:</b> [Nat. Econ]<br>\n",
    "<b>Possible Answers:</b><br>\n",
    "&nbsp;&nbsp;&nbsp;&nbsp;[1] Not at all worried <br>\n",
    "&nbsp;&nbsp;&nbsp;&nbsp;[2] A little worried <br>\n",
    "&nbsp;&nbsp;&nbsp;&nbsp;[3] Moderately worried <br>\n",
    "&nbsp;&nbsp;&nbsp;&nbsp;[4] Very worried<br>\n",
    "&nbsp;&nbsp;&nbsp;&nbsp;[5] Extremely worried<br>\n",
    "\n",
    "**Question 3**: So far as you and your family are concerned, how worried are you about your current financial situation?<br>\n",
    "<b>Variable:</b> [Fin.Situation]<br>\n",
    "<b>Possible Answers:</b><br>\n",
    "&nbsp;&nbsp;&nbsp;&nbsp;[1] Not at all worried <br>\n",
    "&nbsp;&nbsp;&nbsp;&nbsp;[2] A little worried <br>\n",
    "&nbsp;&nbsp;&nbsp;&nbsp;[3] Moderately worried <br>\n",
    "&nbsp;&nbsp;&nbsp;&nbsp;[4] Very worried<br>\n",
    "&nbsp;&nbsp;&nbsp;&nbsp;[5] Extremely worried<br>\n",
    "\n",
    "<b>Question 4</b>: How worried are you about the economic impact of the coronavirus? <br>\n",
    "<b>Variable:</b> [Covid.E]<br>\n",
    "<b>Possible Answers:</b><br>\n",
    "&nbsp;&nbsp;&nbsp;&nbsp;[1] Extremely worried <br>\n",
    "&nbsp;&nbsp;&nbsp;&nbsp;[2] Very worried <br>\n",
    "&nbsp;&nbsp;&nbsp;&nbsp;[3] Moderately worried <br>\n",
    "&nbsp;&nbsp;&nbsp;&nbsp;[4] A little worried<br>\n",
    "&nbsp;&nbsp;&nbsp;&nbsp;[5] Not at all worried<br>\n",
    "\n",
    "First, let's take a close look at the correlation heatmap below: "
   ]
  },
  {
   "cell_type": "code",
   "execution_count": null,
   "metadata": {},
   "outputs": [],
   "source": [
    "econ = df1[['Happy', 'Worried', 'Nat. Econ', 'Covid.E', 'Fin.Situation']]\n",
    "fig = plt.subplots(figsize=(8,6))\n",
    "g = sns.heatmap(econ.corr(), annot=True, vmin=-1, cmap=cmap)\n",
    "plt.suptitle(\"Correlation between economic situation and emotional wellbeing\", y = 1.03, fontsize=20)"
   ]
  },
  {
   "cell_type": "markdown",
   "metadata": {},
   "source": [
    "We can see a positive correlation between worrying about the personal financial situation and overall situation in the country as well as worrying about the national economy. The same applies to the state of the national economy: the more someone is worried about the country's state, the more they are worried about the country overall. \n",
    "\n",
    "Note: We can see a negative correlation between the economic impact of Covid-19 and the state of the national economy. However, the scale of answers is reversed. That means that the actual correlation is actually positive."
   ]
  },
  {
   "cell_type": "markdown",
   "metadata": {},
   "source": [
    "### Do men and women have diffenrent level of concern regarding national economy and personal financial situation?"
   ]
  },
  {
   "cell_type": "code",
   "execution_count": null,
   "metadata": {},
   "outputs": [],
   "source": [
    "# Data Manipulation\n",
    "df1.loc[:, 'Sex'].replace(1, 'Male', inplace=True)\n",
    "df1.loc[:, 'Sex'].replace(2, 'Female', inplace=True)\n",
    "\n",
    "#How worried are you about the national economy?\n",
    "df1.loc[:, 'Nat. Econ'].replace(5, 'Extremely', inplace=True)\n",
    "df1.loc[:, 'Nat. Econ'].replace(4, 'Very', inplace=True)\n",
    "df1.loc[:, 'Nat. Econ'].replace(3, 'Moderately', inplace=True)\n",
    "df1.loc[:, 'Nat. Econ'].replace(2, 'A little', inplace=True)\n",
    "df1.loc[:, 'Nat. Econ'].replace(1, 'Not at all', inplace=True)\n",
    "\n",
    "# So far as you and your family are concerned, how worried are you about your current financial situation?\n",
    "df1.loc[:, 'Fin.Situation'].replace(5, 'Extremely', inplace=True)\n",
    "df1.loc[:, 'Fin.Situation'].replace(4, 'Very', inplace=True)\n",
    "df1.loc[:, 'Fin.Situation'].replace(3, 'Moderately', inplace=True)\n",
    "df1.loc[:, 'Fin.Situation'].replace(2, 'A little', inplace=True)\n",
    "df1.loc[:, 'Fin.Situation'].replace(1, 'Not at all', inplace=True)\n",
    "\n",
    "# So far as you and your family are concerned, how worried are you about your current financial situation?\n",
    "df1.loc[:, 'Covid.E'].replace(5, 'Not at all', inplace=True)\n",
    "df1.loc[:, 'Covid.E'].replace(4, 'A little', inplace=True)\n",
    "df1.loc[:, 'Covid.E'].replace(3, 'Moderately', inplace=True)\n",
    "df1.loc[:, 'Covid.E'].replace(2, 'Very', inplace=True)\n",
    "df1.loc[:, 'Covid.E'].replace(1, 'Extremely', inplace=True)\n",
    "\n",
    "df_econ_gender = df1.loc[:, ['Nat. Econ', 'Covid.E', 'Fin.Situation', 'Sex']]"
   ]
  },
  {
   "cell_type": "code",
   "execution_count": null,
   "metadata": {},
   "outputs": [],
   "source": [
    "# Plotting\n",
    "fig, (ax1, ax2, ax3) = plt.subplots(3, 1, figsize=(14,14), sharey=True)\n",
    "x1, x2, x3, y, hue = \"Nat. Econ\", \"Fin.Situation\", \"Covid.E\", \"proportion\", \"Sex\"\n",
    "\n",
    "g1 = build_bar_plot(x1, y, hue, ax1, order_worry, palette_sex, df_econ_gender)\n",
    "g2 = build_bar_plot(x2, y, hue, ax2, order_worry, palette_sex, df_econ_gender)\n",
    "g3 = build_bar_plot(x3, y, hue, ax3, order_worry, palette_sex, df_econ_gender)\n",
    "\n",
    "axes = [ax1, ax2, ax3]\n",
    "\n",
    "ax1.set_title('How Worried Are You About The National Economy?')\n",
    "ax2.set_title('How Worried Are You About Personal Financial Situation?')\n",
    "ax3.set_title('How Worried Are You About Economic Impact of COVID-19?')\n",
    "\n",
    "get_rid_of_spine(axes)\n",
    "label_each_bar(axes)\n",
    "set_yticks_empty([g1, g2, g3])"
   ]
  },
  {
   "cell_type": "markdown",
   "metadata": {},
   "source": [
    "**Conclusion (gender specific):**\n",
    "1. National Economy: we can see the overall downward trend, meaning the US population, independent of gender, was very worried about the state of the national economy. It also seems that women tend to worry a bit more about the national economy. Rephrasing it to answer my question: In 2020, the National economy was an important factor contributing to the worrisome emotional state of Americans, and it seems to influence women more than men.\n",
    "\n",
    "2. Personal Finances: interestingly, the dominant category in this question is *A little*, while *Very* and *Not at all* have the same proportion of responses. However, for 57% of women and 52% of men, the financial situation was a moderate or higher concern. For them, it was a contributing factor to their anxiety and stress.\n",
    "\n",
    "3. Economic Impact of Covid-19: From these plots, we can see that many more people are worried about the economic impact of Covid-19 than any of the other two questions. To be precise, 70% of both men and women are *extremely* or *very* concerned with the impact of Covid-19. "
   ]
  },
  {
   "cell_type": "markdown",
   "metadata": {},
   "source": [
    "### Do people with different political beliefs have diffenrent level of concern regarding national economy and personal fonancial situation?"
   ]
  },
  {
   "cell_type": "code",
   "execution_count": null,
   "metadata": {},
   "outputs": [],
   "source": [
    "# Generally speaking, do you usually think of yourself as a Republican, a Democrat, an independent, or what?\n",
    "df1.loc[:, 'Political Party'].replace(1, 'Republican', inplace=True)\n",
    "df1.loc[:, 'Political Party'].replace(2, 'Democrat', inplace=True)\n",
    "df1.loc[:, 'Political Party'].replace(3, 'Independent', inplace=True)\n",
    "df1.loc[:, 'Political Party'].replace(4, 'Something Else', inplace=True)\n",
    "\n",
    "# Data Manipulation\n",
    "df_econ_pol = df1.loc[:, ['Nat. Econ', 'Fin.Situation', 'Covid.E', 'Political Party']]"
   ]
  },
  {
   "cell_type": "code",
   "execution_count": null,
   "metadata": {},
   "outputs": [],
   "source": [
    "# Plotting\n",
    "fig, (ax1, ax2, ax3) = plt.subplots(3, 1, figsize=(14,12))\n",
    "x1, x2, x3, y, hue = \"Nat. Econ\", \"Fin.Situation\", \"Covid.E\", \"proportion\", \"Political Party\"\n",
    "\n",
    "g1 = build_bar_plot(x1, y, hue, ax1, order_worry, cmap_pol, df_econ_pol)\n",
    "g2 = build_bar_plot(x2, y, hue, ax2, order_worry, cmap_pol, df_econ_pol)\n",
    "g3 = build_bar_plot(x3, y, hue, ax3, order_worry, cmap_pol, df_econ_pol)\n",
    "\n",
    "axes = [ax1, ax2, ax3]\n",
    "\n",
    "ax1.set_title('How Worried Are You About The National Economy')\n",
    "ax2.set_title('How Worried Are You About Personal Financial Situation')\n",
    "ax3.set_title('How Worried Are You About Economic Impact of COVID-19?')\n",
    "\n",
    "get_rid_of_spine(axes)\n",
    "label_each_bar(axes)\n",
    "set_yticks_empty([g1, g2, g3])"
   ]
  },
  {
   "cell_type": "code",
   "execution_count": null,
   "metadata": {},
   "outputs": [],
   "source": [
    "extremely = len(df_econ_pol[df_econ_pol.loc[:, 'Fin.Situation'] == \"Extremely\"])\n",
    "very = len(df_econ_pol[df_econ_pol.loc[:, 'Fin.Situation'] == \"Very\"])\n",
    "(extremely + very )/ total"
   ]
  },
  {
   "cell_type": "markdown",
   "metadata": {},
   "source": [
    "**Conclusion:** From the graphs above, we can see that when it comes to the state of the **National Economy**, most Democrats tend to be *extremely* or *very* worried, while the distribution of Republicans' and Independent group's responses are more uniformly distributed among all categories. \n",
    "\n",
    "Regarding **personal finances**, all groups are concentrated more in the middle to lower range: *moderately* and *a little*. While it was not a concern for most Americans, 39% of Democrats, 24% of Republicans, 34% of independent respondents, and 29% of others responded that they are *extremely* or *very* worried about their financial situation. As we know, for many Americans, 2020 was financially a hard time. Only in April 20.5 million Americans lost their jobs ([source](https://www.cnn.com/2020/05/08/economy/april-jobs-report-2020-coronavirus/index.html)), causing an unemployment rate of 14.7%. Also, there is a moderate correlation (0.36) between being worried about contracting COVID-19 and being worried about the personal financial situation: those who were worried about contracting the virus were also worried about their financial situation. \n",
    "\n",
    "**Impact of Covid-19:** Similarly to the previous section, most people are *ectremly* or *very* worried about the impact of Covid-19. To be precise: 70% of Democrats, 68% of Independent group, 67% of Republicans. \n",
    "\n",
    "**Side Note:** Even though it is not the focus of this study, I want to mention that it is impossible to say whether what we see on the graphs is a general trend or it was caused by the fact that both President and Senate were Republicans at the time when the survey was conducted. To answer this particular question, we would need historical data.\n",
    "\n",
    "---\n",
    "\n",
    "So now, as we already touched upon the impact of Coronavirus, let's take a closer look at it."
   ]
  },
  {
   "cell_type": "markdown",
   "metadata": {},
   "source": [
    "<center><h2>Health Concerns & Covid-19</h2></center>\n",
    "\n",
    "<center><img src=\"../figs/prasesh-shiwakoti-lomash-moHiHqdmUYY-unsplash.jpg\" align=\"center\" alt='positive covid test by prasesh-shiwakoti' style=\"width: 600px;\"/></center>"
   ]
  },
  {
   "cell_type": "markdown",
   "metadata": {},
   "source": [
    "<b>Question 4:</b>: How worried are you personally about getting the coronavirus (COVID-19)?<br>\n",
    "<b>Variables:</b> [covid1]<br>\n",
    "<b>Possible Answers:</b><br>\n",
    "&nbsp;&nbsp;&nbsp;&nbsp;[1] Extremely worried <br>\n",
    "&nbsp;&nbsp;&nbsp;&nbsp;[2] Very worried <br>\n",
    "&nbsp;&nbsp;&nbsp;&nbsp;[3] Moderately worried <br>\n",
    "&nbsp;&nbsp;&nbsp;&nbsp;[4] A little worried <br>\n",
    "&nbsp;&nbsp;&nbsp;&nbsp;[5] Not at all worried <br>\n",
    "\n",
    "I decided to also include Americans' evaluation of their own health. <br>\n",
    "<b>Question 5:</b>: Would you say that in general your health is:<br>\n",
    "<b>Variables:</b> [health]<br>\n",
    "<b>Possible Answers:</b><br>\n",
    "&nbsp;&nbsp;&nbsp;&nbsp;[1] Poor <br>\n",
    "&nbsp;&nbsp;&nbsp;&nbsp;[2] Fair <br>\n",
    "&nbsp;&nbsp;&nbsp;&nbsp;[3] Good <br>\n",
    "&nbsp;&nbsp;&nbsp;&nbsp;[4] Very good <br>\n",
    "&nbsp;&nbsp;&nbsp;&nbsp;[5] Excellent <br>\n",
    "\n",
    "To have a better understanding of the responses to the Question 4, let's take a look at the following facts:\n",
    "* April 4: The coronavirus infected more than 1.1 million people and killed more than 60,000 worldwide, according to Johns Hopkins University. The US has more than 300,000 cases and more than 8,100 deaths, according to revised figures.\n",
    "* By April 9 there had been more COVID-19–related deaths in New York and New Jersey than in the rest of the United States combined (New York Times 2020).\n",
    "* By mid-April, cases had been confirmed in all fifty U.S. states\n",
    "* April 20: The coronavirus sickened almost 2.5 million people worldwide and killed more than 170,000, according to Johns Hopkins University. In the U.S., more than 42,000 have died and over 787,000 have contracted COVID-19.\n",
    "* ... \n",
    "\n",
    "So, how worried are you personally about getting the coronavirus (COVID-19)?"
   ]
  },
  {
   "cell_type": "code",
   "execution_count": null,
   "metadata": {},
   "outputs": [],
   "source": [
    "df_health = df1.loc[:, ['Worried', 'Happy', 'Health', 'Covid.P', 'Sex']]\n",
    "sns.heatmap(df_health.corr(), cmap=cmap, annot=True, vmin=-1)\n",
    "plt.title('Correlation Heatmap')"
   ]
  },
  {
   "cell_type": "markdown",
   "metadata": {},
   "source": [
    "As we can see from the heatmap, being worried about contracting COVID-19 correlates with being worried about the country's situation overall. The simplest explanation is that it is all about the situation in the country during the pandemic. You are not safe when cases raise.\n",
    "\n",
    "**Note:** that the coefficient is negative, though because the scale is reversed, the dependency is actually positive. In other words, the more worried the respondent is about contracting COVID-19, the more they are worried about how things are going in the country overall.\n",
    "\n",
    "Interestingly, the health is uncorrelated with being worried about contracting COVID-19, but it is positively (weakly) correlated with being happy about how things are going in the country overall.\n",
    "\n",
    "### Let's see of that's the same for men and women:"
   ]
  },
  {
   "cell_type": "code",
   "execution_count": null,
   "metadata": {},
   "outputs": [],
   "source": [
    "# Data Manipulation\n",
    "# Would you say that in general your health is:\n",
    "df1.loc[:, 'Health'].replace(1, 'Poor', inplace=True)\n",
    "df1.loc[:, 'Health'].replace(2, 'Fair', inplace=True)\n",
    "df1.loc[:, 'Health'].replace(3, 'Good', inplace=True)\n",
    "df1.loc[:, 'Health'].replace(4, 'Very good', inplace=True)\n",
    "df1.loc[:, 'Health'].replace(5, 'Excellent', inplace=True)\n",
    "\n",
    "# How worried are you personally about getting the coronavirus (COVID-19)?\n",
    "df1.loc[:, 'Covid.P'].replace(1, 'Extremely', inplace=True)\n",
    "df1.loc[:, 'Covid.P'].replace(2, 'Very', inplace=True)\n",
    "df1.loc[:, 'Covid.P'].replace(3, 'Moderately', inplace=True)\n",
    "df1.loc[:, 'Covid.P'].replace(4, 'A little', inplace=True)\n",
    "df1.loc[:, 'Covid.P'].replace(5, 'Not at all', inplace=True)\n",
    "df_health = df1.loc[:, ['Worried', 'Happy', 'Health', 'Covid.P', 'Sex']]"
   ]
  },
  {
   "cell_type": "code",
   "execution_count": null,
   "metadata": {},
   "outputs": [],
   "source": [
    "# Plotting\n",
    "fig, (ax1, ax2) = plt.subplots(2, 1, figsize=(14,12), sharey=True)\n",
    "\n",
    "order_health=['Excellent', 'Very good', 'Good', 'Fair', 'Poor']\n",
    "x1, x2, y, hue = \"Health\", \"Covid.P\", \"proportion\", \"Sex\"\n",
    "\n",
    "g1 = build_bar_plot(x1, y, hue, ax1, order_health, palette_sex, df_health)\n",
    "g2 = build_bar_plot(x2, y, hue, ax2, order_worry, palette_sex, df_health)\n",
    "\n",
    "\n",
    "# The amount of space above titles\n",
    "y_title_margin = 1.05\n",
    "plt.suptitle(\"Health Concerns\", y = 1.03, fontsize=20)\n",
    "ax1.set_title(\"How Healthy Americans Think they are?\",  y = y_title_margin)\n",
    "ax2.set_title(\"How Worried Americans are About Getting the Coronavirus?\",y = y_title_margin)\n",
    "\n",
    "axes = [ax1, ax2]\n",
    "\n",
    "get_rid_of_spine(axes)\n",
    "label_each_bar(axes)\n",
    "set_yticks_empty([g1, g2])"
   ]
  },
  {
   "cell_type": "markdown",
   "metadata": {},
   "source": [
    "\n",
    "**Conclusion:**\n",
    "\n",
    "From the diagram above, we can see that the responses related to overall health are normally distributed. More men than women tend to evaluate their health as above average (*very good* & *excellent*). However, it doesn't necessarily mean that men have better health than women because respondents were not given a set of characteristics for what is considered *Good* or *Excellent* health. \n",
    "\n",
    "Regarding concerns about contracting Covid-19, there is no significant difference between men and women. Moreover, all responses are distributed more or less uniformly. Around 67% of Americans were *moderately*, or higher worried about contracting COVID-19."
   ]
  },
  {
   "cell_type": "markdown",
   "metadata": {},
   "source": [
    "### Let's see if people with different political beliefs have diffenrent level of concern regarding COVID-19:"
   ]
  },
  {
   "cell_type": "code",
   "execution_count": null,
   "metadata": {},
   "outputs": [],
   "source": [
    "# Data Manipulation\n",
    "df_health_pol = df1.loc[:, ['Health', 'Covid.P', 'Political Party']]\n",
    "\n",
    "# Plotting\n",
    "fig, (ax1, ax2) = plt.subplots(2, 1, figsize=(14,12))\n",
    "x1, x2, y, hue = 'Health', 'Covid.P', \"proportion\", 'Political Party'\n",
    "order_health = [\"Excellent\", 'Very good', 'Good', 'Fair', 'Poor']\n",
    "\n",
    "g1 = build_bar_plot(x1, y, hue, ax1, order_health, cmap_pol, df_health_pol)\n",
    "g2 = build_bar_plot(x2, y, hue, ax2, order_worry, cmap_pol, df_health_pol)\n",
    "\n",
    "ax2.set_title('How Worried Are You About Getting COVID-19?')\n",
    "ax1.set_title('How Would You Evaluate Your Health')\n",
    "ax1.legend(bbox_to_anchor=(1, 1), loc='upper left')\n",
    "\n",
    "get_rid_of_spine([ax1, ax2])\n",
    "label_each_bar([ax1, ax2])\n",
    "set_yticks_empty([g1, g2])"
   ]
  },
  {
   "cell_type": "markdown",
   "metadata": {},
   "source": [
    "**Conclusion:**\n",
    "\n",
    "When it comes to **health**, all health categories are normally distributed with no significant differences between the political groups within each category.\n",
    "\n",
    "Similarly to the National Economic question, democrats seem to worry about contracting **COVID-19** more than any other group. This is true for the following three categories: *Extremely*, *Very*, and *Moderately*. \n",
    "\n",
    "Thus, we can conclude that for democrats, COVID-19 had a slightly more significant impact on their mental health. However, it is unclear whether they were worried more because of their political views or other demographic or economic factors. Further analysis is needed to shed light on this situation.\n",
    "\n",
    "---\n",
    "\n",
    "When situations like COVID-19 happen, people frequently look for the support of their close family members and friends. Together it is easier to go through difficult life situations. Unfortunately, for different reasons, this support might be unavailable. 2020 was a politically active year that divided the Unites States into reds and blues. In the next section, I want to explore whether the relationships with closed ones were hurt due to differences in political views. I think it is important because because those people potentially had a higher risk additional stress and anxiety. "
   ]
  },
  {
   "cell_type": "markdown",
   "metadata": {},
   "source": [
    "<center><h2>Relationships With Loved Ones</h2></center>\n",
    "\n",
    "<center><img src=\"../figs/helena-lopes-PGnqT0rXWLs-unsplash.jpg\" align=\"center\" alt='friends and family by helena-lopes' style=\"width: 600px;\"/></center>"
   ]
  },
  {
   "cell_type": "markdown",
   "metadata": {},
   "source": [
    "<b>Question:</b>: In the past four years, how much have political differences hurt your relationships with close family members / friends?<br>\n",
    "<b>Variables:</b> ['Hurt Relat. with Family'], ['Hurt Relat. with Friends']<br>\n",
    "<b>Possible Answers:</b><br>\n",
    "&nbsp;&nbsp;&nbsp;&nbsp;[1] A great deal <br>\n",
    "&nbsp;&nbsp;&nbsp;&nbsp;[2] A lot <br>\n",
    "&nbsp;&nbsp;&nbsp;&nbsp;[3] A moderate amount <br>\n",
    "&nbsp;&nbsp;&nbsp;&nbsp;[4] A little <br>\n",
    "&nbsp;&nbsp;&nbsp;&nbsp;[5] Not at all <br>"
   ]
  },
  {
   "cell_type": "code",
   "execution_count": null,
   "metadata": {},
   "outputs": [],
   "source": [
    "df_relationships = df1[['Happy', 'Worried', 'Hurt Relat. with Family', 'Hurt Relat. with Friends', 'Birth Year']]\n",
    "sns.heatmap(df_relationships.corr(), annot=True, vmin = -1, cmap=cmap)"
   ]
  },
  {
   "cell_type": "markdown",
   "metadata": {},
   "source": [
    "Let's analyze this heatmap step by step:\n",
    "1. An interesting observation is that the two questions we are analyzing are highly correlated with the respondent's age (birth year, to be more specific).\n",
    "2. Both of the questions are weakly correlated with being worried about how things are going in the country overall: the more political difference hurt your relationships with loved ones, the more worried about the state of the country they are. (Note that the scale is reversed)\n",
    "3. Finally, an intersting observation is that both of the questions are negatively correlated with happiness. However, considering that the scale is reversed, it is the same as saying that the correlation is positive: the more one's relationships were hurt, the happier that person is about the state of the country. Absurd!\n",
    "\n",
    "I can think of three possible reasons why that might happen:\n",
    "1. There are other (possibly hidden) features that influence the correlation.\n",
    "2. Our dataset is unbalnced. \n",
    "3. It happens. Just as US spendings on technology, space, and science strongly correlates with suicides by hanging, suffocation, and strangulation ([source](https://www.tylervigen.com/spurious-correlations)).\n",
    "\n",
    "The first reason is very probable though it is imposible to know with the current dataset.\n",
    "\n",
    "Therefore, let's check if the dataset is balanced."
   ]
  },
  {
   "cell_type": "code",
   "execution_count": null,
   "metadata": {},
   "outputs": [],
   "source": [
    "# How worried are you personally about getting the coronavirus (COVID-19)?\n",
    "df1.loc[:, 'Hurt Relat. with Friends'].replace(1, 'A great deal', inplace=True)\n",
    "df1.loc[:, 'Hurt Relat. with Friends'].replace(2, 'A lot', inplace=True)\n",
    "df1.loc[:, 'Hurt Relat. with Friends'].replace(3, 'A moderate amount', inplace=True)\n",
    "df1.loc[:, 'Hurt Relat. with Friends'].replace(4, 'A little', inplace=True)\n",
    "df1.loc[:, 'Hurt Relat. with Friends'].replace(5, 'Not at all', inplace=True)\n",
    "\n",
    "df1.loc[:, 'Hurt Relat. with Family'].replace(1, 'A great deal', inplace=True)\n",
    "df1.loc[:, 'Hurt Relat. with Family'].replace(2, 'A lot', inplace=True)\n",
    "df1.loc[:, 'Hurt Relat. with Family'].replace(3, 'A moderate amount', inplace=True)\n",
    "df1.loc[:, 'Hurt Relat. with Family'].replace(4, 'A little', inplace=True)\n",
    "df1.loc[:, 'Hurt Relat. with Family'].replace(5, 'Not at all', inplace=True)\n",
    "\n",
    "df_relationships = df1.loc[:, ['Worried', 'Happy', 'Hurt Relat. with Friends', 'Hurt Relat. with Family', 'Sex']]\n",
    "\n",
    "# Plotting\n",
    "fig, (ax1, ax2) = plt.subplots(2, 1, figsize=(14,12), sharey=True)\n",
    "\n",
    "order_relationships=['A great deal', 'A lot', 'A moderate amount', 'A little', 'Not at all']\n",
    "x1, x2, y, hue = 'Hurt Relat. with Family', 'Hurt Relat. with Friends', \"proportion\", \"Sex\"\n",
    "\n",
    "g1 = build_bar_plot(x1, y, hue, ax1, order_relationships, palette_sex, df_relationships)\n",
    "g2 = build_bar_plot(x2, y, hue, ax2, order_relationships, palette_sex, df_relationships)\n",
    "\n",
    "\n",
    "# The amount of space above titles\n",
    "y_title_margin = 1.05\n",
    "plt.suptitle(\"Relationships with Friends and Family\", y = 1, fontsize=20)\n",
    "ax1.set_title(\"How much have political differences hurt your relationships with close family member\",  y = y_title_margin)\n",
    "ax2.set_title(\"How much have political differences hurt your relationships with close friend\",y = y_title_margin)\n",
    "ax2.legend(title='Sex', loc='upper left')\n",
    "axes = [ax1, ax2]\n",
    "\n",
    "get_rid_of_spine(axes)\n",
    "label_each_bar(axes)\n",
    "set_yticks_empty([g1, g2])"
   ]
  },
  {
   "cell_type": "code",
   "execution_count": null,
   "metadata": {},
   "outputs": [],
   "source": [
    "a_great_deal_fam = df_relationships[df_relationships['Hurt Relat. with Family'] == 'A great deal'].count()[0]\n",
    "a_great_deal_fam = np.round(a_great_deal_fam/total * 100, 2)\n",
    "print('Percent of population whose relationships with close family member were hurt a great deal due to the difference in political views: ', a_great_deal_fam, '%')"
   ]
  },
  {
   "cell_type": "code",
   "execution_count": null,
   "metadata": {},
   "outputs": [],
   "source": [
    "a_lot_fam = df_relationships[df_relationships['Hurt Relat. with Family'] == 'A lot'].count()[0]\n",
    "a_lot_fam = np.round(a_lot_fam/total * 100, 2)\n",
    "print('Percent of population whose relationships with close family member were hurt a lot due to the difference in political views: ', a_lot_fam, '%')"
   ]
  },
  {
   "cell_type": "code",
   "execution_count": null,
   "metadata": {},
   "outputs": [],
   "source": [
    "a_great_deal_fr = df_relationships[df_relationships['Hurt Relat. with Friends'] == 'A great deal'].count()[0]\n",
    "a_great_deal_fr = np.round(a_great_deal_fr/total * 100, 2)\n",
    "print('Percent of population whose relationships with close friends were hurt a great deal due to the difference in political views: ', a_great_deal_fr, '%')"
   ]
  },
  {
   "cell_type": "code",
   "execution_count": null,
   "metadata": {},
   "outputs": [],
   "source": [
    "a_lot_fam = df_relationships[df_relationships['Hurt Relat. with Friends'] == 'A lot'].count()[0]\n",
    "a_lot_fam = np.round(a_lot_fam/total * 100, 2)\n",
    "print('Percent of population whose relationships with close friends were hurt a lot due to the difference in political views: ', a_lot_fam, '%')"
   ]
  },
  {
   "cell_type": "markdown",
   "metadata": {},
   "source": [
    "**Conclusion:** As we can see from the diagrams above and the percentages of those whose relationships were hurt, we can conclude that our dataset is highly unbalanced.\n",
    "Bargraphs also suggest that differences in political views hurt men's relationships with close family members and friends more than women's. However, since the dataset is unbalanced, we should take this conclusion with a grain of salt. "
   ]
  },
  {
   "cell_type": "code",
   "execution_count": null,
   "metadata": {},
   "outputs": [],
   "source": [
    "df_relationships_pol = df1.loc[:, ['Worried', 'Happy', 'Hurt Relat. with Friends', 'Hurt Relat. with Family', 'Political Party']]\n",
    "\n",
    "# Plotting\n",
    "fig, (ax1, ax2) = plt.subplots(2, 1, figsize=(14,12), sharey=True)\n",
    "\n",
    "order_relationships=['A great deal', 'A lot', 'A moderate amount', 'A little', 'Not at all']\n",
    "x1, x2, y, hue = 'Hurt Relat. with Family', 'Hurt Relat. with Friends', \"proportion\", \"Political Party\"\n",
    "\n",
    "g1 = build_bar_plot(x1, y, hue, ax1, order_relationships, cmap_pol, df_relationships_pol)\n",
    "g2 = build_bar_plot(x2, y, hue, ax2, order_relationships, cmap_pol, df_relationships_pol)\n",
    "\n",
    "\n",
    "# The amount of space above titles\n",
    "y_title_margin = 1.05\n",
    "plt.suptitle(\"Relationships with Friends and Family\", y = 1, fontsize=20)\n",
    "ax1.set_title(\"How much have political differences hurt your relationships with close family member\",  y = y_title_margin)\n",
    "ax2.set_title(\"How much have political differences hurt your relationships with close friend\",y = y_title_margin)\n",
    "ax2.legend(title='Political Party', loc='upper left')\n",
    "axes = [ax1, ax2]\n",
    "\n",
    "get_rid_of_spine(axes)\n",
    "label_each_bar(axes)\n",
    "set_yticks_empty([g1, g2])"
   ]
  },
  {
   "cell_type": "markdown",
   "metadata": {},
   "source": [
    "**Conclusion:** There doesn't seem to be a difference in how people of different political views responded to these questions. But again, the dataset is unbalanced, and such a conclusion could be unrepresentative of the truth.\n",
    "\n",
    "## Are people of different ages affected equally?"
   ]
  },
  {
   "cell_type": "code",
   "execution_count": null,
   "metadata": {},
   "outputs": [],
   "source": [
    "df_relationships_year = df[['worried', 'happy', 'birthyr', \n",
    "                            'impact8', 'impact9']]\n",
    "\n",
    "year_list = range(1935,2005, 5)\n",
    "responses = range(1, 5)\n",
    "\n",
    "# We don't have enough data up until 1937. Therefore I will start the analysis from 1937\n",
    "to_drop = list(df1[df1['Birth Year'] < 1937].index)\n",
    "df_relationships_year = df_relationships_year.drop(to_drop)\n",
    "\n",
    "# Rename Columns\n",
    "column_labels=['Worried', 'Happy', 'Birth Year', 'Hurt Relat. with Family', 'Hurt Relat. with Friends']\n",
    "df_relationships_year.columns = column_labels\n",
    "df_relationships_year = df_relationships_year.groupby('Birth Year')\n",
    "df_relationships_year = df_relationships_year.mean()"
   ]
  },
  {
   "cell_type": "code",
   "execution_count": null,
   "metadata": {},
   "outputs": [],
   "source": [
    "fig, ax = plt.subplots(figsize=(14,7))\n",
    "sns.set_style('whitegrid')\n",
    "g1 = sns.lineplot(x=df_relationships_year.index,\n",
    "                  y=df_relationships_year['Hurt Relat. with Family'],\n",
    "                  label='Family')\n",
    "g2 = sns.lineplot(x=df_relationships_year.index,\n",
    "                  y=df_relationships_year['Hurt Relat. with Friends'],\n",
    "                  label='Friends')\n",
    "ax.set(ylabel='How much the relationships were hurt? (1 - A great Deal, 5 - Not at all)')\n",
    "plt.suptitle(\"How on Average Different Political Views Affect the Relationship With Family and Friends by Age\", \n",
    "             y = 1, \n",
    "             fontsize=20)\n",
    "plt.legend(title='Group')\n",
    "\n",
    "get_rid_of_spine([ax])\n",
    "g1.axes.get_xaxis().set_ticks(year_list)\n",
    "g1.axes.get_yaxis().set_ticks(responses)"
   ]
  },
  {
   "cell_type": "markdown",
   "metadata": {},
   "source": [
    "**Conclusion:** As we can see from the graph, older people's relationships are usually less affected by the differences in political views than younger people's relationships. Another interesting observation is that family relations are less affected than relationships with friends for people born before 1975 (the blue line is above the orange one). However, this dynamic changes for people who were born after 1975. The difference in political views affects relationships with friends less than family relationships (the orange line is above the blue line). Thus, we can conclude that the **younger population under the age of 50 tend to have their relationships with loved ones hurt.** \n",
    "\n",
    "Now, as we know what some of the causes for anxiety are and whom they affect more, can we find a universal solution to this problem?<br>\n",
    "We all know the phrase: **money can't buy happiness**. But is it true? Or can money reduce our anxiety?"
   ]
  },
  {
   "cell_type": "markdown",
   "metadata": {},
   "source": [
    "<center><h2>Is there a dependency between our income and being happy/worried about how things are going in the country?</h2></center>\n",
    "<center><img src=\"../figs/alexander-mils-lCPhGxs7pww-unsplash.jpg\" align=\"center\" alt='money by alexander mils' style=\"width: 600px;\"/></center>"
   ]
  },
  {
   "cell_type": "markdown",
   "metadata": {},
   "source": [
    "The dataset contains three columns that represent income:\n",
    "1. [inc_anes] Income All 2019 liv. together\n",
    "2. [inc_cps] Income All Past 12\n",
    "3. [inc_cpsmod] Income All Past 12 liv. together\n",
    "\n",
    "Each respondent answered only one of them, depending on the randomly assigned type of survey. Questions differ by following conditions:\n",
    "1. Asks for the total income in 2019 of all family members that are living with a respondent?\n",
    "2. Asks for the total income during the past 12 months of all family members?\n",
    "3. Asks for the total income during the past 12 months of all family members that are living with a respondent?\n",
    "\n",
    "While the 12 months period versus 2019 may not make a big difference because survey was conducted in April of 2020, the 'living together' condition will probably add inaccuracies to my analysis because not all family members live together. I will keep this in mind when concluding the findings.\n",
    "\n",
    "**Note:** Number 66 is a placeholder to indicate that the person completed another type of survey. Therefore, I will first replace all 66 by 0 and then add values in all three columns together to get a single column with incomes. "
   ]
  },
  {
   "cell_type": "code",
   "execution_count": null,
   "metadata": {},
   "outputs": [],
   "source": [
    "df_income = df[['worried', 'happy', 'birthyr',\n",
    "                'impact8', 'impact9',\n",
    "                'finworry', 'confecon', \n",
    "                'covid1', 'covid2', \n",
    "                'inc_anes', 'inc_cps', 'inc_cpsmod']]\n",
    "\n",
    "column_labels=['Worried', 'Happy', 'Birth Year',\n",
    "               'Hurt Relat. with Family', 'Hurt Relat. with Friends',\n",
    "               'Fin.Situation', 'Nat. Econ',\n",
    "               'Covid.P', 'Covid.E', \n",
    "               'Income All 2019 liv. together', 'Income All Past 12', 'Income All Past 12 liv. together']\n",
    "\n",
    "df_income.columns = column_labels\n",
    "\n",
    "df_income = df_income.replace(66, 0)\n",
    "df_income['income'] = df_income['Income All 2019 liv. together'] + \\\n",
    "                      df_income['Income All Past 12'] + \\\n",
    "                      df_income['Income All Past 12 liv. together']\n",
    "df_income.drop(columns=['Income All 2019 liv. together', 'Income All Past 12', 'Income All Past 12 liv. together'], inplace = True)"
   ]
  },
  {
   "cell_type": "code",
   "execution_count": null,
   "metadata": {},
   "outputs": [],
   "source": [
    "fig = plt.subplots(figsize=(14,7))\n",
    "sns.heatmap(df_income.corr(), annot=True, cmap=cmap, vmin=-1)"
   ]
  },
  {
   "cell_type": "markdown",
   "metadata": {},
   "source": [
    "On the heatmap above we can see that in general the correlation between income all other variables that we have seen in the previous sections of my analysis is pretty weak. Since correlation coefficients are pretty weak and I can't say that there is a strong dependecy between income and any other column of interest. \n",
    "\n",
    "**Thus, my coclusion is that money can't make people happy. People can.**"
   ]
  },
  {
   "cell_type": "markdown",
   "metadata": {},
   "source": [
    "<center><h1>Conclusion</h1></center>\n",
    "\n",
    "## What Affected Our Emotional Well-being in 2020?\n",
    "\n",
    "Many things: \n",
    "- the state of National Economy negatively affected the well-being of most Americans. \n",
    "- personal finances and COVID-19 were a moderate concerns. \n",
    "- luckily, only a relatively small number of American families' relationships were hurt by the differences in their political views, so we couldn't draw a definite conclusion about whether/how it affected their well-being. \n",
    "- an interesting observation: the healthier people consider themself, the happier they were about the state of the country overall; in other words, good physical health positively affected emotional well-being. \n",
    "\n",
    "## Does It Vary for Different Social Groups?\n",
    "### Women vs Men\n",
    "1. Women find politics more styressful than men. \n",
    "1. Women were less happy about how things are going in the country than men. Conversely, women seemed to worry about the state of the country more than men. \n",
    "1. The state of the national economy negatively affected women more than men.  \n",
    "1. Personal finances was a moderate concern for most men and women. \n",
    "1. Men and women were similarly concerned regarding contracting Covid-19. \n",
    "1. Differences in political views possibly hurt men's relationships with close family members and friends more than women's. \n",
    "\n",
    "### Age\n",
    "1. It seems like the relationships of younger people (50 y.o. or less) were hurt more than of those who are older.\n",
    "1. Older people seem to have their friendship relationships hurt more than the relationships with their family, which is the opposite for younger people.\n",
    "\n",
    "### Democrats vs Republicans vs Independent group\n",
    "1. Democrats were more worried about the state of the National Economy and contracting COVID-19 than any other political group.\n",
    "1. All groups were equally (moderately) worried about their personal finances.\n",
    "1. Relationships of both all parties were affected equally. \n",
    "<br>\n",
    "<br> \n",
    "Taking all of this into account, I conclude that in 2020 women were at higher risk of anxiety disorders due to the unstable country's economic and political situation.\n",
    "\n",
    "**My recomendation:** Most of us can't do anything about National Economy, but we can protect our relationships with loved ones and take care of our physical health. It will help us go through difficult life situation. "
   ]
  }
 ],
 "metadata": {
  "kernelspec": {
   "display_name": "Python 3",
   "language": "python",
   "name": "python3"
  },
  "language_info": {
   "codemirror_mode": {
    "name": "ipython",
    "version": 3
   },
   "file_extension": ".py",
   "mimetype": "text/x-python",
   "name": "python",
   "nbconvert_exporter": "python",
   "pygments_lexer": "ipython3",
   "version": "3.8.5"
  }
 },
 "nbformat": 4,
 "nbformat_minor": 4
}
